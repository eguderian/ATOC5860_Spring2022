{
 "cells": [
  {
   "cell_type": "code",
   "execution_count": 6,
   "metadata": {},
   "outputs": [],
   "source": [
    "###### Applications Lab #1-- ATOC7500 Objective Analysis\n",
    "##### Originally coded by Prof. Jennifer Kay (CU) with input from Elizabeth Maroon (CU ATOC/CIRES Postdoc 2018)\n",
    "##### last updated September 2, 2020\n",
    "\n",
    "###LEARNING GOALS:\n",
    "###1) Working in an ipython notebook: read in netcdf file, make line plots and histograms\n",
    "###2) Calculate statistical significance of the changes in the normalized mean using a z-statistic and a t-statistic\n",
    "###3) Calculate confidence intervals on CESM-LE global warming using z-statistic and t-statistic\n",
    "\n",
    "# Import the packages and general set-up\n",
    "%matplotlib inline  \n",
    "# this enables plotting within notebook\n",
    "import matplotlib   # library for plotting\n",
    "import matplotlib.pyplot as plt # basic plotting; later you will type plt.$COMMAND\n",
    "import numpy as np # basic math library  you will type np.$STUFF  e.g., np.cos(1)\n",
    "import scipy.stats as stats # imports stats functions https://docs.scipy.org/doc/scipy/reference/stats.html  \n",
    "import xarray  ##netcdf manipulation - slick array manipulation"
   ]
  },
  {
   "cell_type": "code",
   "execution_count": 7,
   "metadata": {},
   "outputs": [
    {
     "ename": "FileNotFoundError",
     "evalue": "[Errno 2] No such file or directory: '/Users/eringuderian/Documents/GitHub/ATOC5860_Spring2022/lab1/TS_timeseries_cesmle_1920_2100.nc'",
     "output_type": "error",
     "traceback": [
      "\u001b[0;31m---------------------------------------------------------------------------\u001b[0m",
      "\u001b[0;31mKeyError\u001b[0m                                  Traceback (most recent call last)",
      "\u001b[0;32m/opt/anaconda3/lib/python3.8/site-packages/xarray/backends/file_manager.py\u001b[0m in \u001b[0;36m_acquire_with_cache_info\u001b[0;34m(self, needs_lock)\u001b[0m\n\u001b[1;32m    198\u001b[0m             \u001b[0;32mtry\u001b[0m\u001b[0;34m:\u001b[0m\u001b[0;34m\u001b[0m\u001b[0;34m\u001b[0m\u001b[0m\n\u001b[0;32m--> 199\u001b[0;31m                 \u001b[0mfile\u001b[0m \u001b[0;34m=\u001b[0m \u001b[0mself\u001b[0m\u001b[0;34m.\u001b[0m\u001b[0m_cache\u001b[0m\u001b[0;34m[\u001b[0m\u001b[0mself\u001b[0m\u001b[0;34m.\u001b[0m\u001b[0m_key\u001b[0m\u001b[0;34m]\u001b[0m\u001b[0;34m\u001b[0m\u001b[0;34m\u001b[0m\u001b[0m\n\u001b[0m\u001b[1;32m    200\u001b[0m             \u001b[0;32mexcept\u001b[0m \u001b[0mKeyError\u001b[0m\u001b[0;34m:\u001b[0m\u001b[0;34m\u001b[0m\u001b[0;34m\u001b[0m\u001b[0m\n",
      "\u001b[0;32m/opt/anaconda3/lib/python3.8/site-packages/xarray/backends/lru_cache.py\u001b[0m in \u001b[0;36m__getitem__\u001b[0;34m(self, key)\u001b[0m\n\u001b[1;32m     52\u001b[0m         \u001b[0;32mwith\u001b[0m \u001b[0mself\u001b[0m\u001b[0;34m.\u001b[0m\u001b[0m_lock\u001b[0m\u001b[0;34m:\u001b[0m\u001b[0;34m\u001b[0m\u001b[0;34m\u001b[0m\u001b[0m\n\u001b[0;32m---> 53\u001b[0;31m             \u001b[0mvalue\u001b[0m \u001b[0;34m=\u001b[0m \u001b[0mself\u001b[0m\u001b[0;34m.\u001b[0m\u001b[0m_cache\u001b[0m\u001b[0;34m[\u001b[0m\u001b[0mkey\u001b[0m\u001b[0;34m]\u001b[0m\u001b[0;34m\u001b[0m\u001b[0;34m\u001b[0m\u001b[0m\n\u001b[0m\u001b[1;32m     54\u001b[0m             \u001b[0mself\u001b[0m\u001b[0;34m.\u001b[0m\u001b[0m_cache\u001b[0m\u001b[0;34m.\u001b[0m\u001b[0mmove_to_end\u001b[0m\u001b[0;34m(\u001b[0m\u001b[0mkey\u001b[0m\u001b[0;34m)\u001b[0m\u001b[0;34m\u001b[0m\u001b[0;34m\u001b[0m\u001b[0m\n",
      "\u001b[0;31mKeyError\u001b[0m: [<function _open_scipy_netcdf at 0x7fd387a9f670>, ('/Users/eringuderian/Documents/GitHub/ATOC5860_Spring2022/lab1/TS_timeseries_cesmle_1920_2100.nc',), 'r', (('mmap', None), ('version', 2))]",
      "\nDuring handling of the above exception, another exception occurred:\n",
      "\u001b[0;31mFileNotFoundError\u001b[0m                         Traceback (most recent call last)",
      "\u001b[0;32m<ipython-input-7-a835abe8fcfb>\u001b[0m in \u001b[0;36m<module>\u001b[0;34m\u001b[0m\n\u001b[1;32m      4\u001b[0m \u001b[0;31m## CESM Large Ensemble Project (https://doi.org/10.1175/BAMS-D-13-00255.1.\u001b[0m\u001b[0;34m\u001b[0m\u001b[0;34m\u001b[0m\u001b[0;34m\u001b[0m\u001b[0m\n\u001b[1;32m      5\u001b[0m \u001b[0mfname\u001b[0m\u001b[0;34m=\u001b[0m\u001b[0;34m\"TS_timeseries_cesmle_1920_2100.nc\"\u001b[0m\u001b[0;34m\u001b[0m\u001b[0;34m\u001b[0m\u001b[0m\n\u001b[0;32m----> 6\u001b[0;31m \u001b[0mds\u001b[0m\u001b[0;34m=\u001b[0m\u001b[0mxarray\u001b[0m\u001b[0;34m.\u001b[0m\u001b[0mopen_dataset\u001b[0m\u001b[0;34m(\u001b[0m\u001b[0mfname\u001b[0m\u001b[0;34m)\u001b[0m\u001b[0;34m\u001b[0m\u001b[0;34m\u001b[0m\u001b[0m\n\u001b[0m\u001b[1;32m      7\u001b[0m \u001b[0;31m#ds  ## note: uncommenting this line prints information about the data you read in\u001b[0m\u001b[0;34m\u001b[0m\u001b[0;34m\u001b[0m\u001b[0;34m\u001b[0m\u001b[0m\n\u001b[1;32m      8\u001b[0m \u001b[0mfname1\u001b[0m\u001b[0;34m=\u001b[0m\u001b[0;34m\"TS_timeseries_cesmle_1850.nc\"\u001b[0m\u001b[0;34m\u001b[0m\u001b[0;34m\u001b[0m\u001b[0m\n",
      "\u001b[0;32m/opt/anaconda3/lib/python3.8/site-packages/xarray/backends/api.py\u001b[0m in \u001b[0;36mopen_dataset\u001b[0;34m(filename_or_obj, engine, chunks, cache, decode_cf, mask_and_scale, decode_times, decode_timedelta, use_cftime, concat_characters, decode_coords, drop_variables, backend_kwargs, *args, **kwargs)\u001b[0m\n\u001b[1;32m    493\u001b[0m \u001b[0;34m\u001b[0m\u001b[0m\n\u001b[1;32m    494\u001b[0m     \u001b[0moverwrite_encoded_chunks\u001b[0m \u001b[0;34m=\u001b[0m \u001b[0mkwargs\u001b[0m\u001b[0;34m.\u001b[0m\u001b[0mpop\u001b[0m\u001b[0;34m(\u001b[0m\u001b[0;34m\"overwrite_encoded_chunks\"\u001b[0m\u001b[0;34m,\u001b[0m \u001b[0;32mNone\u001b[0m\u001b[0;34m)\u001b[0m\u001b[0;34m\u001b[0m\u001b[0;34m\u001b[0m\u001b[0m\n\u001b[0;32m--> 495\u001b[0;31m     backend_ds = backend.open_dataset(\n\u001b[0m\u001b[1;32m    496\u001b[0m         \u001b[0mfilename_or_obj\u001b[0m\u001b[0;34m,\u001b[0m\u001b[0;34m\u001b[0m\u001b[0;34m\u001b[0m\u001b[0m\n\u001b[1;32m    497\u001b[0m         \u001b[0mdrop_variables\u001b[0m\u001b[0;34m=\u001b[0m\u001b[0mdrop_variables\u001b[0m\u001b[0;34m,\u001b[0m\u001b[0;34m\u001b[0m\u001b[0;34m\u001b[0m\u001b[0m\n",
      "\u001b[0;32m/opt/anaconda3/lib/python3.8/site-packages/xarray/backends/scipy_.py\u001b[0m in \u001b[0;36mopen_dataset\u001b[0;34m(self, filename_or_obj, mask_and_scale, decode_times, concat_characters, decode_coords, drop_variables, use_cftime, decode_timedelta, mode, format, group, mmap, lock)\u001b[0m\n\u001b[1;32m    280\u001b[0m         \u001b[0mstore_entrypoint\u001b[0m \u001b[0;34m=\u001b[0m \u001b[0mStoreBackendEntrypoint\u001b[0m\u001b[0;34m(\u001b[0m\u001b[0;34m)\u001b[0m\u001b[0;34m\u001b[0m\u001b[0;34m\u001b[0m\u001b[0m\n\u001b[1;32m    281\u001b[0m         \u001b[0;32mwith\u001b[0m \u001b[0mclose_on_error\u001b[0m\u001b[0;34m(\u001b[0m\u001b[0mstore\u001b[0m\u001b[0;34m)\u001b[0m\u001b[0;34m:\u001b[0m\u001b[0;34m\u001b[0m\u001b[0;34m\u001b[0m\u001b[0m\n\u001b[0;32m--> 282\u001b[0;31m             ds = store_entrypoint.open_dataset(\n\u001b[0m\u001b[1;32m    283\u001b[0m                 \u001b[0mstore\u001b[0m\u001b[0;34m,\u001b[0m\u001b[0;34m\u001b[0m\u001b[0;34m\u001b[0m\u001b[0m\n\u001b[1;32m    284\u001b[0m                 \u001b[0mmask_and_scale\u001b[0m\u001b[0;34m=\u001b[0m\u001b[0mmask_and_scale\u001b[0m\u001b[0;34m,\u001b[0m\u001b[0;34m\u001b[0m\u001b[0;34m\u001b[0m\u001b[0m\n",
      "\u001b[0;32m/opt/anaconda3/lib/python3.8/site-packages/xarray/backends/store.py\u001b[0m in \u001b[0;36mopen_dataset\u001b[0;34m(self, store, mask_and_scale, decode_times, concat_characters, decode_coords, drop_variables, use_cftime, decode_timedelta)\u001b[0m\n\u001b[1;32m     22\u001b[0m         \u001b[0mdecode_timedelta\u001b[0m\u001b[0;34m=\u001b[0m\u001b[0;32mNone\u001b[0m\u001b[0;34m,\u001b[0m\u001b[0;34m\u001b[0m\u001b[0;34m\u001b[0m\u001b[0m\n\u001b[1;32m     23\u001b[0m     ):\n\u001b[0;32m---> 24\u001b[0;31m         \u001b[0mvars\u001b[0m\u001b[0;34m,\u001b[0m \u001b[0mattrs\u001b[0m \u001b[0;34m=\u001b[0m \u001b[0mstore\u001b[0m\u001b[0;34m.\u001b[0m\u001b[0mload\u001b[0m\u001b[0;34m(\u001b[0m\u001b[0;34m)\u001b[0m\u001b[0;34m\u001b[0m\u001b[0;34m\u001b[0m\u001b[0m\n\u001b[0m\u001b[1;32m     25\u001b[0m         \u001b[0mencoding\u001b[0m \u001b[0;34m=\u001b[0m \u001b[0mstore\u001b[0m\u001b[0;34m.\u001b[0m\u001b[0mget_encoding\u001b[0m\u001b[0;34m(\u001b[0m\u001b[0;34m)\u001b[0m\u001b[0;34m\u001b[0m\u001b[0;34m\u001b[0m\u001b[0m\n\u001b[1;32m     26\u001b[0m \u001b[0;34m\u001b[0m\u001b[0m\n",
      "\u001b[0;32m/opt/anaconda3/lib/python3.8/site-packages/xarray/backends/common.py\u001b[0m in \u001b[0;36mload\u001b[0;34m(self)\u001b[0m\n\u001b[1;32m    121\u001b[0m         \"\"\"\n\u001b[1;32m    122\u001b[0m         variables = FrozenDict(\n\u001b[0;32m--> 123\u001b[0;31m             \u001b[0;34m(\u001b[0m\u001b[0m_decode_variable_name\u001b[0m\u001b[0;34m(\u001b[0m\u001b[0mk\u001b[0m\u001b[0;34m)\u001b[0m\u001b[0;34m,\u001b[0m \u001b[0mv\u001b[0m\u001b[0;34m)\u001b[0m \u001b[0;32mfor\u001b[0m \u001b[0mk\u001b[0m\u001b[0;34m,\u001b[0m \u001b[0mv\u001b[0m \u001b[0;32min\u001b[0m \u001b[0mself\u001b[0m\u001b[0;34m.\u001b[0m\u001b[0mget_variables\u001b[0m\u001b[0;34m(\u001b[0m\u001b[0;34m)\u001b[0m\u001b[0;34m.\u001b[0m\u001b[0mitems\u001b[0m\u001b[0;34m(\u001b[0m\u001b[0;34m)\u001b[0m\u001b[0;34m\u001b[0m\u001b[0;34m\u001b[0m\u001b[0m\n\u001b[0m\u001b[1;32m    124\u001b[0m         )\n\u001b[1;32m    125\u001b[0m         \u001b[0mattributes\u001b[0m \u001b[0;34m=\u001b[0m \u001b[0mFrozenDict\u001b[0m\u001b[0;34m(\u001b[0m\u001b[0mself\u001b[0m\u001b[0;34m.\u001b[0m\u001b[0mget_attrs\u001b[0m\u001b[0;34m(\u001b[0m\u001b[0;34m)\u001b[0m\u001b[0;34m)\u001b[0m\u001b[0;34m\u001b[0m\u001b[0;34m\u001b[0m\u001b[0m\n",
      "\u001b[0;32m/opt/anaconda3/lib/python3.8/site-packages/xarray/backends/scipy_.py\u001b[0m in \u001b[0;36mget_variables\u001b[0;34m(self)\u001b[0m\n\u001b[1;32m    169\u001b[0m     \u001b[0;32mdef\u001b[0m \u001b[0mget_variables\u001b[0m\u001b[0;34m(\u001b[0m\u001b[0mself\u001b[0m\u001b[0;34m)\u001b[0m\u001b[0;34m:\u001b[0m\u001b[0;34m\u001b[0m\u001b[0;34m\u001b[0m\u001b[0m\n\u001b[1;32m    170\u001b[0m         return FrozenDict(\n\u001b[0;32m--> 171\u001b[0;31m             \u001b[0;34m(\u001b[0m\u001b[0mk\u001b[0m\u001b[0;34m,\u001b[0m \u001b[0mself\u001b[0m\u001b[0;34m.\u001b[0m\u001b[0mopen_store_variable\u001b[0m\u001b[0;34m(\u001b[0m\u001b[0mk\u001b[0m\u001b[0;34m,\u001b[0m \u001b[0mv\u001b[0m\u001b[0;34m)\u001b[0m\u001b[0;34m)\u001b[0m \u001b[0;32mfor\u001b[0m \u001b[0mk\u001b[0m\u001b[0;34m,\u001b[0m \u001b[0mv\u001b[0m \u001b[0;32min\u001b[0m \u001b[0mself\u001b[0m\u001b[0;34m.\u001b[0m\u001b[0mds\u001b[0m\u001b[0;34m.\u001b[0m\u001b[0mvariables\u001b[0m\u001b[0;34m.\u001b[0m\u001b[0mitems\u001b[0m\u001b[0;34m(\u001b[0m\u001b[0;34m)\u001b[0m\u001b[0;34m\u001b[0m\u001b[0;34m\u001b[0m\u001b[0m\n\u001b[0m\u001b[1;32m    172\u001b[0m         )\n\u001b[1;32m    173\u001b[0m \u001b[0;34m\u001b[0m\u001b[0m\n",
      "\u001b[0;32m/opt/anaconda3/lib/python3.8/site-packages/xarray/backends/scipy_.py\u001b[0m in \u001b[0;36mds\u001b[0;34m(self)\u001b[0m\n\u001b[1;32m    158\u001b[0m     \u001b[0;34m@\u001b[0m\u001b[0mproperty\u001b[0m\u001b[0;34m\u001b[0m\u001b[0;34m\u001b[0m\u001b[0m\n\u001b[1;32m    159\u001b[0m     \u001b[0;32mdef\u001b[0m \u001b[0mds\u001b[0m\u001b[0;34m(\u001b[0m\u001b[0mself\u001b[0m\u001b[0;34m)\u001b[0m\u001b[0;34m:\u001b[0m\u001b[0;34m\u001b[0m\u001b[0;34m\u001b[0m\u001b[0m\n\u001b[0;32m--> 160\u001b[0;31m         \u001b[0;32mreturn\u001b[0m \u001b[0mself\u001b[0m\u001b[0;34m.\u001b[0m\u001b[0m_manager\u001b[0m\u001b[0;34m.\u001b[0m\u001b[0macquire\u001b[0m\u001b[0;34m(\u001b[0m\u001b[0;34m)\u001b[0m\u001b[0;34m\u001b[0m\u001b[0;34m\u001b[0m\u001b[0m\n\u001b[0m\u001b[1;32m    161\u001b[0m \u001b[0;34m\u001b[0m\u001b[0m\n\u001b[1;32m    162\u001b[0m     \u001b[0;32mdef\u001b[0m \u001b[0mopen_store_variable\u001b[0m\u001b[0;34m(\u001b[0m\u001b[0mself\u001b[0m\u001b[0;34m,\u001b[0m \u001b[0mname\u001b[0m\u001b[0;34m,\u001b[0m \u001b[0mvar\u001b[0m\u001b[0;34m)\u001b[0m\u001b[0;34m:\u001b[0m\u001b[0;34m\u001b[0m\u001b[0;34m\u001b[0m\u001b[0m\n",
      "\u001b[0;32m/opt/anaconda3/lib/python3.8/site-packages/xarray/backends/file_manager.py\u001b[0m in \u001b[0;36macquire\u001b[0;34m(self, needs_lock)\u001b[0m\n\u001b[1;32m    179\u001b[0m             \u001b[0mAn\u001b[0m \u001b[0mopen\u001b[0m \u001b[0mfile\u001b[0m \u001b[0mobject\u001b[0m\u001b[0;34m,\u001b[0m \u001b[0;32mas\u001b[0m \u001b[0mreturned\u001b[0m \u001b[0mby\u001b[0m\u001b[0;31m \u001b[0m\u001b[0;31m`\u001b[0m\u001b[0;31m`\u001b[0m\u001b[0mopener\u001b[0m\u001b[0;34m(\u001b[0m\u001b[0;34m*\u001b[0m\u001b[0margs\u001b[0m\u001b[0;34m,\u001b[0m \u001b[0;34m**\u001b[0m\u001b[0mkwargs\u001b[0m\u001b[0;34m)\u001b[0m\u001b[0;31m`\u001b[0m\u001b[0;31m`\u001b[0m\u001b[0;34m.\u001b[0m\u001b[0;34m\u001b[0m\u001b[0;34m\u001b[0m\u001b[0m\n\u001b[1;32m    180\u001b[0m         \"\"\"\n\u001b[0;32m--> 181\u001b[0;31m         \u001b[0mfile\u001b[0m\u001b[0;34m,\u001b[0m \u001b[0m_\u001b[0m \u001b[0;34m=\u001b[0m \u001b[0mself\u001b[0m\u001b[0;34m.\u001b[0m\u001b[0m_acquire_with_cache_info\u001b[0m\u001b[0;34m(\u001b[0m\u001b[0mneeds_lock\u001b[0m\u001b[0;34m)\u001b[0m\u001b[0;34m\u001b[0m\u001b[0;34m\u001b[0m\u001b[0m\n\u001b[0m\u001b[1;32m    182\u001b[0m         \u001b[0;32mreturn\u001b[0m \u001b[0mfile\u001b[0m\u001b[0;34m\u001b[0m\u001b[0;34m\u001b[0m\u001b[0m\n\u001b[1;32m    183\u001b[0m \u001b[0;34m\u001b[0m\u001b[0m\n",
      "\u001b[0;32m/opt/anaconda3/lib/python3.8/site-packages/xarray/backends/file_manager.py\u001b[0m in \u001b[0;36m_acquire_with_cache_info\u001b[0;34m(self, needs_lock)\u001b[0m\n\u001b[1;32m    203\u001b[0m                     \u001b[0mkwargs\u001b[0m \u001b[0;34m=\u001b[0m \u001b[0mkwargs\u001b[0m\u001b[0;34m.\u001b[0m\u001b[0mcopy\u001b[0m\u001b[0;34m(\u001b[0m\u001b[0;34m)\u001b[0m\u001b[0;34m\u001b[0m\u001b[0;34m\u001b[0m\u001b[0m\n\u001b[1;32m    204\u001b[0m                     \u001b[0mkwargs\u001b[0m\u001b[0;34m[\u001b[0m\u001b[0;34m\"mode\"\u001b[0m\u001b[0;34m]\u001b[0m \u001b[0;34m=\u001b[0m \u001b[0mself\u001b[0m\u001b[0;34m.\u001b[0m\u001b[0m_mode\u001b[0m\u001b[0;34m\u001b[0m\u001b[0;34m\u001b[0m\u001b[0m\n\u001b[0;32m--> 205\u001b[0;31m                 \u001b[0mfile\u001b[0m \u001b[0;34m=\u001b[0m \u001b[0mself\u001b[0m\u001b[0;34m.\u001b[0m\u001b[0m_opener\u001b[0m\u001b[0;34m(\u001b[0m\u001b[0;34m*\u001b[0m\u001b[0mself\u001b[0m\u001b[0;34m.\u001b[0m\u001b[0m_args\u001b[0m\u001b[0;34m,\u001b[0m \u001b[0;34m**\u001b[0m\u001b[0mkwargs\u001b[0m\u001b[0;34m)\u001b[0m\u001b[0;34m\u001b[0m\u001b[0;34m\u001b[0m\u001b[0m\n\u001b[0m\u001b[1;32m    206\u001b[0m                 \u001b[0;32mif\u001b[0m \u001b[0mself\u001b[0m\u001b[0;34m.\u001b[0m\u001b[0m_mode\u001b[0m \u001b[0;34m==\u001b[0m \u001b[0;34m\"w\"\u001b[0m\u001b[0;34m:\u001b[0m\u001b[0;34m\u001b[0m\u001b[0;34m\u001b[0m\u001b[0m\n\u001b[1;32m    207\u001b[0m                     \u001b[0;31m# ensure file doesn't get overriden when opened again\u001b[0m\u001b[0;34m\u001b[0m\u001b[0;34m\u001b[0m\u001b[0;34m\u001b[0m\u001b[0m\n",
      "\u001b[0;32m/opt/anaconda3/lib/python3.8/site-packages/xarray/backends/scipy_.py\u001b[0m in \u001b[0;36m_open_scipy_netcdf\u001b[0;34m(filename, mode, mmap, version)\u001b[0m\n\u001b[1;32m     97\u001b[0m \u001b[0;34m\u001b[0m\u001b[0m\n\u001b[1;32m     98\u001b[0m     \u001b[0;32mtry\u001b[0m\u001b[0;34m:\u001b[0m\u001b[0;34m\u001b[0m\u001b[0;34m\u001b[0m\u001b[0m\n\u001b[0;32m---> 99\u001b[0;31m         \u001b[0;32mreturn\u001b[0m \u001b[0mscipy\u001b[0m\u001b[0;34m.\u001b[0m\u001b[0mio\u001b[0m\u001b[0;34m.\u001b[0m\u001b[0mnetcdf_file\u001b[0m\u001b[0;34m(\u001b[0m\u001b[0mfilename\u001b[0m\u001b[0;34m,\u001b[0m \u001b[0mmode\u001b[0m\u001b[0;34m=\u001b[0m\u001b[0mmode\u001b[0m\u001b[0;34m,\u001b[0m \u001b[0mmmap\u001b[0m\u001b[0;34m=\u001b[0m\u001b[0mmmap\u001b[0m\u001b[0;34m,\u001b[0m \u001b[0mversion\u001b[0m\u001b[0;34m=\u001b[0m\u001b[0mversion\u001b[0m\u001b[0;34m)\u001b[0m\u001b[0;34m\u001b[0m\u001b[0;34m\u001b[0m\u001b[0m\n\u001b[0m\u001b[1;32m    100\u001b[0m     \u001b[0;32mexcept\u001b[0m \u001b[0mTypeError\u001b[0m \u001b[0;32mas\u001b[0m \u001b[0me\u001b[0m\u001b[0;34m:\u001b[0m  \u001b[0;31m# netcdf3 message is obscure in this case\u001b[0m\u001b[0;34m\u001b[0m\u001b[0;34m\u001b[0m\u001b[0m\n\u001b[1;32m    101\u001b[0m         \u001b[0merrmsg\u001b[0m \u001b[0;34m=\u001b[0m \u001b[0me\u001b[0m\u001b[0;34m.\u001b[0m\u001b[0margs\u001b[0m\u001b[0;34m[\u001b[0m\u001b[0;36m0\u001b[0m\u001b[0;34m]\u001b[0m\u001b[0;34m\u001b[0m\u001b[0;34m\u001b[0m\u001b[0m\n",
      "\u001b[0;32m/opt/anaconda3/lib/python3.8/site-packages/scipy/io/netcdf.py\u001b[0m in \u001b[0;36m__init__\u001b[0;34m(self, filename, mode, mmap, version, maskandscale)\u001b[0m\n\u001b[1;32m    247\u001b[0m             \u001b[0mself\u001b[0m\u001b[0;34m.\u001b[0m\u001b[0mfilename\u001b[0m \u001b[0;34m=\u001b[0m \u001b[0mfilename\u001b[0m\u001b[0;34m\u001b[0m\u001b[0;34m\u001b[0m\u001b[0m\n\u001b[1;32m    248\u001b[0m             \u001b[0momode\u001b[0m \u001b[0;34m=\u001b[0m \u001b[0;34m'r+'\u001b[0m \u001b[0;32mif\u001b[0m \u001b[0mmode\u001b[0m \u001b[0;34m==\u001b[0m \u001b[0;34m'a'\u001b[0m \u001b[0;32melse\u001b[0m \u001b[0mmode\u001b[0m\u001b[0;34m\u001b[0m\u001b[0;34m\u001b[0m\u001b[0m\n\u001b[0;32m--> 249\u001b[0;31m             \u001b[0mself\u001b[0m\u001b[0;34m.\u001b[0m\u001b[0mfp\u001b[0m \u001b[0;34m=\u001b[0m \u001b[0mopen\u001b[0m\u001b[0;34m(\u001b[0m\u001b[0mself\u001b[0m\u001b[0;34m.\u001b[0m\u001b[0mfilename\u001b[0m\u001b[0;34m,\u001b[0m \u001b[0;34m'%sb'\u001b[0m \u001b[0;34m%\u001b[0m \u001b[0momode\u001b[0m\u001b[0;34m)\u001b[0m\u001b[0;34m\u001b[0m\u001b[0;34m\u001b[0m\u001b[0m\n\u001b[0m\u001b[1;32m    250\u001b[0m             \u001b[0;32mif\u001b[0m \u001b[0mmmap\u001b[0m \u001b[0;32mis\u001b[0m \u001b[0;32mNone\u001b[0m\u001b[0;34m:\u001b[0m\u001b[0;34m\u001b[0m\u001b[0;34m\u001b[0m\u001b[0m\n\u001b[1;32m    251\u001b[0m                 \u001b[0;31m# Mmapped files on PyPy cannot be usually closed\u001b[0m\u001b[0;34m\u001b[0m\u001b[0;34m\u001b[0m\u001b[0;34m\u001b[0m\u001b[0m\n",
      "\u001b[0;31mFileNotFoundError\u001b[0m: [Errno 2] No such file or directory: '/Users/eringuderian/Documents/GitHub/ATOC5860_Spring2022/lab1/TS_timeseries_cesmle_1920_2100.nc'"
     ]
    }
   ],
   "source": [
    "## LEARNING GOAL #1\n",
    "## Read in the data from netcdf files\n",
    "## These data are global annual mean surface temperatures from the \n",
    "## CESM Large Ensemble Project (https://doi.org/10.1175/BAMS-D-13-00255.1.\n",
    "fname=\"TS_timeseries_cesmle_1920_2100.nc\"\n",
    "ds=xarray.open_dataset(fname)\n",
    "#ds  ## note: uncommenting this line prints information about the data you read in\n",
    "fname1=\"TS_timeseries_cesmle_1850.nc\"\n",
    "ds1=xarray.open_dataset(fname1)\n",
    "gts=ds[\"gts_ann_allcesmle\"]\n",
    "ats=ds[\"ats_ann_allcesmle\"]\n",
    "year=ds[\"year\"]\n",
    "#gts  ## note: uncommenting this line prints information about the variable gts\n",
    "gts_1850=ds1[\"gts_annual\"]"
   ]
  },
  {
   "cell_type": "code",
   "execution_count": 2,
   "metadata": {},
   "outputs": [
    {
     "ename": "NameError",
     "evalue": "name 'year' is not defined",
     "output_type": "error",
     "traceback": [
      "\u001b[0;31m---------------------------------------------------------------------------\u001b[0m",
      "\u001b[0;31mNameError\u001b[0m                                 Traceback (most recent call last)",
      "\u001b[0;32m<ipython-input-2-5a77e60cd277>\u001b[0m in \u001b[0;36m<module>\u001b[0;34m\u001b[0m\n\u001b[1;32m      3\u001b[0m \u001b[0;31m## from the 1850 control and the ensemble members.\u001b[0m\u001b[0;34m\u001b[0m\u001b[0;34m\u001b[0m\u001b[0;34m\u001b[0m\u001b[0m\n\u001b[1;32m      4\u001b[0m \u001b[0mplt\u001b[0m\u001b[0;34m.\u001b[0m\u001b[0mrcParams\u001b[0m\u001b[0;34m[\u001b[0m\u001b[0;34m\"figure.figsize\"\u001b[0m\u001b[0;34m]\u001b[0m \u001b[0;34m=\u001b[0m \u001b[0;34m[\u001b[0m\u001b[0;36m22\u001b[0m\u001b[0;34m,\u001b[0m\u001b[0;36m4\u001b[0m\u001b[0;34m]\u001b[0m\u001b[0;34m\u001b[0m\u001b[0;34m\u001b[0m\u001b[0m\n\u001b[0;32m----> 5\u001b[0;31m \u001b[0;34m[\u001b[0m\u001b[0mplt\u001b[0m\u001b[0;34m.\u001b[0m\u001b[0mplot\u001b[0m\u001b[0;34m(\u001b[0m\u001b[0myear\u001b[0m\u001b[0;34m,\u001b[0m\u001b[0mgts\u001b[0m\u001b[0;34m.\u001b[0m\u001b[0msel\u001b[0m\u001b[0;34m(\u001b[0m\u001b[0mmember\u001b[0m\u001b[0;34m=\u001b[0m\u001b[0mi\u001b[0m\u001b[0;34m)\u001b[0m\u001b[0;34m,\u001b[0m\u001b[0mcolor\u001b[0m\u001b[0;34m=\u001b[0m\u001b[0;34m\"grey\"\u001b[0m\u001b[0;34m)\u001b[0m \u001b[0;32mfor\u001b[0m \u001b[0mi\u001b[0m \u001b[0;32min\u001b[0m \u001b[0mrange\u001b[0m\u001b[0;34m(\u001b[0m\u001b[0;36m1\u001b[0m\u001b[0;34m,\u001b[0m\u001b[0;36m31\u001b[0m\u001b[0;34m)\u001b[0m\u001b[0;34m]\u001b[0m \u001b[0;31m## plot all ensemble members\u001b[0m\u001b[0;34m\u001b[0m\u001b[0;34m\u001b[0m\u001b[0m\n\u001b[0m\u001b[1;32m      6\u001b[0m \u001b[0mplt\u001b[0m\u001b[0;34m.\u001b[0m\u001b[0mplot\u001b[0m\u001b[0;34m(\u001b[0m\u001b[0myear\u001b[0m\u001b[0;34m,\u001b[0m\u001b[0mgts\u001b[0m\u001b[0;34m.\u001b[0m\u001b[0mmean\u001b[0m\u001b[0;34m(\u001b[0m\u001b[0;34m\"member\"\u001b[0m\u001b[0;34m)\u001b[0m\u001b[0;34m,\u001b[0m\u001b[0mcolor\u001b[0m\u001b[0;34m=\u001b[0m\u001b[0;34m\"black\"\u001b[0m\u001b[0;34m)\u001b[0m  \u001b[0;31m## plot ensemble mean\u001b[0m\u001b[0;34m\u001b[0m\u001b[0;34m\u001b[0m\u001b[0m\n\u001b[1;32m      7\u001b[0m \u001b[0mplt\u001b[0m\u001b[0;34m.\u001b[0m\u001b[0mxlabel\u001b[0m\u001b[0;34m(\u001b[0m\u001b[0;34m'year'\u001b[0m\u001b[0;34m)\u001b[0m\u001b[0;34m\u001b[0m\u001b[0;34m\u001b[0m\u001b[0m\n",
      "\u001b[0;32m<ipython-input-2-5a77e60cd277>\u001b[0m in \u001b[0;36m<listcomp>\u001b[0;34m(.0)\u001b[0m\n\u001b[1;32m      3\u001b[0m \u001b[0;31m## from the 1850 control and the ensemble members.\u001b[0m\u001b[0;34m\u001b[0m\u001b[0;34m\u001b[0m\u001b[0;34m\u001b[0m\u001b[0m\n\u001b[1;32m      4\u001b[0m \u001b[0mplt\u001b[0m\u001b[0;34m.\u001b[0m\u001b[0mrcParams\u001b[0m\u001b[0;34m[\u001b[0m\u001b[0;34m\"figure.figsize\"\u001b[0m\u001b[0;34m]\u001b[0m \u001b[0;34m=\u001b[0m \u001b[0;34m[\u001b[0m\u001b[0;36m22\u001b[0m\u001b[0;34m,\u001b[0m\u001b[0;36m4\u001b[0m\u001b[0;34m]\u001b[0m\u001b[0;34m\u001b[0m\u001b[0;34m\u001b[0m\u001b[0m\n\u001b[0;32m----> 5\u001b[0;31m \u001b[0;34m[\u001b[0m\u001b[0mplt\u001b[0m\u001b[0;34m.\u001b[0m\u001b[0mplot\u001b[0m\u001b[0;34m(\u001b[0m\u001b[0myear\u001b[0m\u001b[0;34m,\u001b[0m\u001b[0mgts\u001b[0m\u001b[0;34m.\u001b[0m\u001b[0msel\u001b[0m\u001b[0;34m(\u001b[0m\u001b[0mmember\u001b[0m\u001b[0;34m=\u001b[0m\u001b[0mi\u001b[0m\u001b[0;34m)\u001b[0m\u001b[0;34m,\u001b[0m\u001b[0mcolor\u001b[0m\u001b[0;34m=\u001b[0m\u001b[0;34m\"grey\"\u001b[0m\u001b[0;34m)\u001b[0m \u001b[0;32mfor\u001b[0m \u001b[0mi\u001b[0m \u001b[0;32min\u001b[0m \u001b[0mrange\u001b[0m\u001b[0;34m(\u001b[0m\u001b[0;36m1\u001b[0m\u001b[0;34m,\u001b[0m\u001b[0;36m31\u001b[0m\u001b[0;34m)\u001b[0m\u001b[0;34m]\u001b[0m \u001b[0;31m## plot all ensemble members\u001b[0m\u001b[0;34m\u001b[0m\u001b[0;34m\u001b[0m\u001b[0m\n\u001b[0m\u001b[1;32m      6\u001b[0m \u001b[0mplt\u001b[0m\u001b[0;34m.\u001b[0m\u001b[0mplot\u001b[0m\u001b[0;34m(\u001b[0m\u001b[0myear\u001b[0m\u001b[0;34m,\u001b[0m\u001b[0mgts\u001b[0m\u001b[0;34m.\u001b[0m\u001b[0mmean\u001b[0m\u001b[0;34m(\u001b[0m\u001b[0;34m\"member\"\u001b[0m\u001b[0;34m)\u001b[0m\u001b[0;34m,\u001b[0m\u001b[0mcolor\u001b[0m\u001b[0;34m=\u001b[0m\u001b[0;34m\"black\"\u001b[0m\u001b[0;34m)\u001b[0m  \u001b[0;31m## plot ensemble mean\u001b[0m\u001b[0;34m\u001b[0m\u001b[0;34m\u001b[0m\u001b[0m\n\u001b[1;32m      7\u001b[0m \u001b[0mplt\u001b[0m\u001b[0;34m.\u001b[0m\u001b[0mxlabel\u001b[0m\u001b[0;34m(\u001b[0m\u001b[0;34m'year'\u001b[0m\u001b[0;34m)\u001b[0m\u001b[0;34m\u001b[0m\u001b[0;34m\u001b[0m\u001b[0m\n",
      "\u001b[0;31mNameError\u001b[0m: name 'year' is not defined"
     ]
    }
   ],
   "source": [
    "## It's always a good idea to plot your data before you start doing any calculations.  \"Look at your data\"!\n",
    "## Let's make a quick line plot of global annual mean temperature timeseries \n",
    "## from the 1850 control and the ensemble members.\n",
    "plt.rcParams[\"figure.figsize\"] = [22,4]\n",
    "[plt.plot(year,gts.sel(member=i),color=\"grey\") for i in range(1,31)] ## plot all ensemble members\n",
    "plt.plot(year,gts.mean(\"member\"),color=\"black\")  ## plot ensemble mean\n",
    "plt.xlabel('year')\n",
    "plt.ylabel('global surface temperature (deg C)')\n",
    "plt.xticks(np.arange(1920,2101,60),[\"1920\",\"1980\",\"2040\",\"2100\"])\n",
    "\n",
    "plt.plot(gts_1850,color=\"blue\");  ## add \";\" to not print to screen plotting comments"
   ]
  },
  {
   "cell_type": "code",
   "execution_count": 4,
   "metadata": {},
   "outputs": [
    {
     "name": "stdout",
     "output_type": "stream",
     "text": [
      "Mean 1850 global mean surface temperature\n",
      "287.11\n",
      "Standard deviation in 1850 global mean surface temperature:\n",
      "0.1\n"
     ]
    }
   ],
   "source": [
    "## LEARNING GOAL #2 - Assess global warming in the ensemble and compare it to the 1850 control with constant forcing\n",
    "\n",
    "#### With the 1850 control we have the opportunity to calculate population statistics with constant forcing.\n",
    "#### Let's find the population mean and population standard deviation from the 1850 control.  \n",
    "gts_1850_mean=np.mean(gts_1850)\n",
    "gts_1850_std=np.std(gts_1850)\n",
    "print(\"Mean 1850 global mean surface temperature\")\n",
    "print(np.str(np.round(gts_1850_mean.values,2)))\n",
    "print(\"Standard deviation in 1850 global mean surface temperature:\")\n",
    "print(np.str(np.round(gts_1850_std.values,2)))"
   ]
  },
  {
   "cell_type": "code",
   "execution_count": 5,
   "metadata": {},
   "outputs": [
    {
     "name": "stdout",
     "output_type": "stream",
     "text": [
      "Standardized mean and std in 1850 global mean surface temperature:\n",
      "0.0\n",
      "1.0\n"
     ]
    },
    {
     "data": {
      "image/png": "[encoded data removed]",
      "text/plain": [
       "<Figure size 360x360 with 1 Axes>"
      ]
     },
     "metadata": {
      "needs_background": "light"
     },
     "output_type": "display_data"
    }
   ],
   "source": [
    "#### Standardize the data and plot a histogram\n",
    "gts_1850_norm=(gts_1850-gts_1850_mean)/gts_1850_std\n",
    "gts_1850_norm_mean=np.mean(gts_1850_norm).values\n",
    "gts_1850_norm_std=np.std(gts_1850_norm).values\n",
    "print(\"Standardized mean and std in 1850 global mean surface temperature:\")\n",
    "print(np.str(np.round(gts_1850_norm_mean,2)))\n",
    "print(np.str(np.round(gts_1850_norm_std,2)))\n",
    "\n",
    "xinc = np.arange(-3,3,.25)\n",
    "hx=np.histogram(gts_1850_norm,xinc)\n",
    "plt.rcParams[\"figure.figsize\"] = [5,5]\n",
    "plt.bar(hx[1][:-1],hx[0],edgecolor = 'r', color = [], width = .25, linewidth = 2);\n",
    "plt.ylabel('Number of Samples');\n",
    "plt.xlabel('Standardized Value (Z)');\n",
    "\n",
    "## another histogram option to try (might be deprecated)\n",
    "#xinc = np.arange(-3,3,.25);\n",
    "#plt.hist(gts_1850_norm,xinc);\n",
    "#plt.ylabel('Number of Samples');\n",
    "#plt.xlabel('Standardized Value (Z)');"
   ]
  },
  {
   "cell_type": "code",
   "execution_count": 6,
   "metadata": {},
   "outputs": [
    {
     "name": "stdout",
     "output_type": "stream",
     "text": [
      "nyears:10\n",
      "<xarray.DataArray 'gts_ann_allcesmle' (year: 10)>\n",
      "array([288.1468 , 288.18713, 288.27487, 288.22516, 288.33203, 288.28644,\n",
      "       288.09985, 288.30484, 288.40485, 288.3772 ], dtype=float32)\n",
      "Coordinates:\n",
      "    member   int32 1\n",
      "  * year     (year) int32 2020 2021 2022 2023 2024 2025 2026 2027 2028 2029\n",
      "Attributes:\n",
      "    NCL:             month_to_annual\n",
      "    cell_methods:    time: mean\n",
      "    long_name:       Surface temperature (radiative)\n",
      "    units:           K\n",
      "    average_op_ncl:  dim_avg over dimension(s): lon\n",
      "Standardized mean CESM LE member 1:\n",
      "11.18\n"
     ]
    },
    {
     "data": {
      "image/png": "[encoded data removed]",
      "text/plain": [
       "<Figure size 360x360 with 1 Axes>"
      ]
     },
     "metadata": {
      "needs_background": "light"
     },
     "output_type": "display_data"
    }
   ],
   "source": [
    "### Next let's calculate the global warming in the first ensemble member over a given time period.\n",
    "### Our end goal is compare this warming to the 1850 control run and assess if the warming is statistically significant.\n",
    "\n",
    "### Start by standardizing member 1 data using the 1850 control mean and standard deviation\n",
    "startyear=2020\n",
    "endyear=2030\n",
    "nyrs=(endyear-startyear)\n",
    "print(\"nyears:\"+np.str(nyrs))\n",
    "gts_mem1=gts.sel(member=1).sel(year=slice(startyear,endyear-1))\n",
    "print(gts_mem1)\n",
    "gts_mem1_norm=(gts_mem1-gts_1850_mean)/gts_1850_std\n",
    "\n",
    "print(\"Standardized mean CESM LE member 1:\")\n",
    "print(np.round(np.mean(gts_mem1_norm).values,2))\n",
    "\n",
    "## plot a histogram to see the range of values\n",
    "xinc = np.arange(-20,20,.25)\n",
    "hx=np.histogram(gts_mem1_norm,xinc);\n",
    "plt.bar(hx[1][:-1],hx[0],edgecolor = 'r', color = 'k', width = .25, linewidth = 2);\n",
    "plt.ylabel('Number of Samples');\n",
    "plt.xlabel('Standardized Value (Z)');\n",
    "\n",
    "## another histogram option to try (might be deprecated)\n",
    "#xinc = np.arange(-20,20,.25)\n",
    "#plt.hist(gts_mem1_norm,xinc)\n",
    "#plt.ylabel('Number of Samples')\n",
    "#plt.xlabel('Standardized Value (Z)')"
   ]
  },
  {
   "cell_type": "code",
   "execution_count": 7,
   "metadata": {},
   "outputs": [
    {
     "name": "stdout",
     "output_type": "stream",
     "text": [
      "sample_mean: 11.18\n",
      "Z-statistic:\n",
      "35.36\n",
      "Probability (percent):\n",
      "0.0\n",
      "T-statistic:\n",
      "37.12\n",
      "Probability (percent):\n",
      "0.0\n",
      "ttest function from python\n",
      "Ttest_indResult(statistic=37.01131288736265, pvalue=3.026548718423069e-11)\n",
      "Cannot reject the null hypthesis.\n"
     ]
    }
   ],
   "source": [
    "## What is the probability that the mean annual global mean temperature was X assuming no global warming?\n",
    "## Test sample mean is equal to the population mean (null hypothesis)\n",
    "## Assume that the Global Mean Annual Temperature is standard normal. \n",
    "\n",
    "## Using Barnes equation (83) to calculate probability using z-statistic\n",
    "sample_mean=np.mean(gts_mem1_norm).values\n",
    "print('sample_mean:',np.str(np.round(sample_mean,2)))\n",
    "population_mean=gts_1850_norm_mean\n",
    "population_std=gts_1850_norm_std\n",
    "xstd=population_std/np.sqrt(nyrs)\n",
    "z=(sample_mean-population_mean)/xstd\n",
    "print(\"Z-statistic:\")\n",
    "print(np.round(z,2))\n",
    "print(\"Probability (percent):\")\n",
    "prob=(1-stats.norm.cdf(z))*100\n",
    "print(np.round(prob,2))\n",
    "\n",
    "## Using Barnes equation (96) to calculate probability using the t-statistic\n",
    "sample_mean=np.mean(gts_mem1_norm).values\n",
    "sample_std=np.std(gts_mem1_norm).values\n",
    "print(\"T-statistic:\")\n",
    "t=(sample_mean-population_mean)/(sample_std/(np.sqrt(nyrs-1)))\n",
    "print(np.round(t,2))\n",
    "print(\"Probability (percent):\")\n",
    "prob=(1-stats.t.cdf(t,nyrs-1))*100\n",
    "print(np.round(prob,2))\n",
    "\n",
    "print('ttest function from python')\n",
    "#stats.ttest_ind(gts_1850_norm,gts_mem1_norm)\n",
    "print(stats.ttest_ind(gts_mem1_norm,gts_1850_norm,equal_var = False)) #When equal_var is false (defaults to true),\n",
    "#this means that the underlying population variances are NOT equal and this function then uses Welch's T-test\n",
    "print('Cannot reject the null hypthesis.')"
   ]
  },
  {
   "cell_type": "code",
   "execution_count": 8,
   "metadata": {},
   "outputs": [
    {
     "name": "stdout",
     "output_type": "stream",
     "text": [
      "3.7\n",
      "3.63\n"
     ]
    }
   ],
   "source": [
    "### LEARNING GOAL #3 - Calculate confidence intervals on CESM-LE global warming using z-statistic and t-statistic\n",
    "\n",
    "### Use the code below to calculate how much global warming occurred over the 21st century in both \n",
    "### individual ensemble members and the ensemble mean.\n",
    "\n",
    "## Compare 21st century global warming: one member vs. ensemble mean\n",
    "gw_mem1=gts.sel(member=1).sel(year=slice(2080,2100)).mean(\"year\")- \\\n",
    "        gts.sel(member=1).sel(year=slice(2000,2020)).mean(\"year\")\n",
    "gw_mean=(gts.sel(year=slice(2080,2100)).mean(\"year\").mean(\"member\"))- \\\n",
    "        (gts.sel(year=slice(2000,2020)).mean(\"year\").mean(\"member\"))\n",
    "print(np.round(gw_mem1.values,2))\n",
    "print(np.round(gw_mean.values,2))"
   ]
  },
  {
   "cell_type": "code",
   "execution_count": 9,
   "metadata": {},
   "outputs": [
    {
     "name": "stdout",
     "output_type": "stream",
     "text": [
      "mean:  3.63\n",
      "stdev:  0.06\n",
      "min:  3.51\n",
      "max:  3.75\n"
     ]
    }
   ],
   "source": [
    "## Next - let's calculate emsemble statistics about 21st century global warming\n",
    "nmembers=30\n",
    "temp=(gts.sel(member=slice(1,nmembers)).sel(year=slice(2080,2100)).mean(\"year\")-\\\n",
    "      gts.sel(member=slice(1,nmembers)).sel(year=slice(2000,2020)).mean(\"year\"))\n",
    "gw_mean_mem=temp.mean(\"member\")\n",
    "gw_std_mem=temp.std(\"member\")\n",
    "gw_min_mem=temp.min(\"member\")\n",
    "gw_max_mem=temp.max(\"member\")\n",
    "print(\"mean: \",np.str(np.round(gw_mean_mem.values,2)))\n",
    "print(\"stdev: \",np.str(np.round(gw_std_mem.values,2)))\n",
    "print(\"min: \",np.str(np.round(gw_min_mem.values,2)))\n",
    "print(\"max: \",np.str(np.round(gw_max_mem.values,2)))"
   ]
  },
  {
   "cell_type": "code",
   "execution_count": 10,
   "metadata": {},
   "outputs": [
    {
     "name": "stdout",
     "output_type": "stream",
     "text": [
      "95% confidence limits - t-statistic\n",
      "3.61\n",
      "3.66\n",
      "99% confidence limits - t-statistic\n",
      "3.6\n",
      "3.67\n",
      "95% confidence limits - z-statistic\n",
      "3.61\n",
      "3.66\n",
      "99% confidence limits - z-statistic\n",
      "3.6\n",
      "3.66\n"
     ]
    }
   ],
   "source": [
    "### Let's add confidence intervals to the estimated global warming\n",
    "### Specifically - we'll compare confidence intervals calculated using t-statistic and z-statistic\n",
    "\n",
    "#### Calculate the 95% and 99% confidence limits on the 21st century warming using t-statistic\n",
    "#### Assume that the global warming is normally distributed.\n",
    "N=nmembers\n",
    "df=N-1\n",
    "\n",
    "## Note: Python calculates left/lower-tail probabilities by default, so for the 95% confidence interval, use 0.975\n",
    "tstat95=stats.t.ppf(0.975,df)\n",
    "low_limit95=gw_mean_mem-tstat95*(gw_std_mem/np.sqrt(nmembers-1))\n",
    "high_limit95=gw_mean_mem+tstat95*(gw_std_mem/np.sqrt(nmembers-1))\n",
    "print(\"95% confidence limits - t-statistic\")\n",
    "print(np.round(low_limit95.values,2))\n",
    "print(np.round(high_limit95.values,2))\n",
    "\n",
    "## Note: Python calculates left/lower-tail probabilities by default, so for the 99% confidence interval, use 0.995\n",
    "tstat99=stats.t.ppf(0.995,df)\n",
    "low_limit99=gw_mean_mem-tstat99*(gw_std_mem/np.sqrt(nmembers-1))\n",
    "high_limit99=gw_mean_mem+tstat99*(gw_std_mem/np.sqrt(nmembers-1))\n",
    "print(\"99% confidence limits - t-statistic\")\n",
    "print(np.round(low_limit99.values,2))\n",
    "print(np.round(high_limit99.values,2))\n",
    "\n",
    "#### Calculate the 95% and 99% confidence limits on the 21st century warming using z-statistic\n",
    "#### Assume that the global warming is normally distributed.\n",
    "\n",
    "## Note: Python calculates left/lower-tail probabilities by default, so for the 95% confidence interval, use 0.975\n",
    "zstat95=stats.norm.ppf(0.975)\n",
    "low_limit95=gw_mean_mem-zstat95*(gw_std_mem/np.sqrt(nmembers))\n",
    "high_limit95=gw_mean_mem+zstat95*(gw_std_mem/np.sqrt(nmembers))\n",
    "print(\"95% confidence limits - z-statistic\")\n",
    "print(np.round(low_limit95.values,2))\n",
    "print(np.round(high_limit95.values,2))\n",
    "\n",
    "## Note: Python calculates left/lower-tail probabilities by default, so for the 99% confidence interval, use 0.995\n",
    "zstat99=stats.norm.ppf(0.995)\n",
    "low_limit99=gw_mean_mem-zstat99*(gw_std_mem/np.sqrt(nmembers))\n",
    "high_limit99=gw_mean_mem+zstat99*(gw_std_mem/np.sqrt(nmembers))\n",
    "print(\"99% confidence limits - z-statistic\")\n",
    "print(np.round(low_limit99.values,2))\n",
    "print(np.round(high_limit99.values,2))"
   ]
  },
  {
   "cell_type": "code",
   "execution_count": 11,
   "metadata": {},
   "outputs": [
    {
     "name": "stdout",
     "output_type": "stream",
     "text": [
      "[3.695221  3.636963  3.652832  3.6441956 3.634613  3.5675354 3.6606445\n",
      " 3.7267761 3.5054932 3.6834412 3.5503845 3.5212708 3.5517578 3.6859741\n",
      " 3.619995  3.7277527 3.6286316 3.541504  3.5733337 3.5706787 3.6762085\n",
      " 3.6142273 3.6184998 3.6961365 3.6150513 3.6669922 3.6224976 3.688324\n",
      " 3.7549744 3.6689758]\n",
      "[3.5  3.55 3.6  3.65 3.7  3.75]\n"
     ]
    },
    {
     "data": {
      "image/png": "[encoded data removed]",
      "text/plain": [
       "<Figure size 360x360 with 1 Axes>"
      ]
     },
     "metadata": {
      "needs_background": "light"
     },
     "output_type": "display_data"
    }
   ],
   "source": [
    "#### plot a histogram of global warming - Was normal distribution a good approximation?\n",
    "gw_allmem=gts.sel(member=slice(1,nmembers)).sel(year=slice(2080,2100)).mean(\"year\")- \\\n",
    "        gts.sel(member=slice(1,nmembers)).sel(year=slice(2000,2020)).mean(\"year\")\n",
    "print(gw_allmem.values)\n",
    "\n",
    "## plot a histogram to see the range of values\n",
    "xinc = np.arange(3.5,3.8,.05)\n",
    "print(xinc)\n",
    "hx=np.histogram(gw_allmem,xinc)\n",
    "plt.bar(hx[1][:-1],hx[0],edgecolor = 'k', color = 'r', width = .05, linewidth = 2);\n",
    "plt.ylabel('Number of Samples');\n",
    "plt.xlabel('Standardized Value (Z)');\n",
    "\n",
    "### another histogram option\n",
    "#xinc = np.arange(3.5,3.8,.05)\n",
    "#plt.hist(gw_allmem,xinc);\n",
    "#plt.ylabel('Number of Samples');\n",
    "#plt.xlabel('Standardized Value (Z)');"
   ]
  },
  {
   "cell_type": "code",
   "execution_count": 12,
   "metadata": {},
   "outputs": [
    {
     "name": "stdout",
     "output_type": "stream",
     "text": [
      "<xarray.DataArray 'gts_ann_allcesmle' (member: 6)>\n",
      "array([3.695221 , 3.636963 , 3.652832 , 3.6441956, 3.634613 , 3.5675354],\n",
      "      dtype=float32)\n",
      "Coordinates:\n",
      "  * member   (member) int32 1 2 3 4 5 6\n",
      "mean:  3.64\n",
      "stdev:  0.04\n",
      "min:  3.57\n",
      "max:  3.7\n"
     ]
    }
   ],
   "source": [
    "#### What if you you only had 6 ensemble members?  Estimate your confidence interval using a t-statistic.\n",
    "## Calculate statistics for the 21st century global warming\n",
    "nmembers=6\n",
    "temp=(gts.sel(member=slice(1,nmembers)).sel(year=slice(2080,2100)).mean(\"year\")-\\\n",
    "      gts.sel(member=slice(1,nmembers)).sel(year=slice(2000,2020)).mean(\"year\"))\n",
    "print(temp)\n",
    "gw_mean_mem=temp.mean(\"member\")\n",
    "gw_std_mem=temp.std(\"member\")\n",
    "gw_min_mem=temp.min(\"member\")\n",
    "gw_max_mem=temp.max(\"member\")\n",
    "\n",
    "print(\"mean: \",np.str(np.round(gw_mean_mem.values,2)))\n",
    "print(\"stdev: \",np.str(np.round(gw_std_mem.values,2)))\n",
    "print(\"min: \",np.str(np.round(gw_min_mem.values,2)))\n",
    "print(\"max: \",np.str(np.round(gw_max_mem.values,2)))"
   ]
  },
  {
   "cell_type": "code",
   "execution_count": 13,
   "metadata": {},
   "outputs": [
    {
     "name": "stdout",
     "output_type": "stream",
     "text": [
      "95% confidence limits - t-statistic\n",
      "3.5952689933866235\n",
      "3.681851119986179\n",
      "99% confidence limits - t-statistic\n",
      "3.5706549020445166\n",
      "3.706465211328286\n"
     ]
    }
   ],
   "source": [
    "#### Calculate the 95% and 99% confidence limits on the 21st century warming using t-statistic\n",
    "#### Assume that the global warming is normally distributed.  (See page 18 of Barnes notes)\n",
    "N=nmembers\n",
    "df=N-1\n",
    "\n",
    "## Note: Python calculates left/lower-tail probabilities by default, so for the 95% confidence interval, use 0.975\n",
    "tstat95=stats.t.ppf(0.975,df)\n",
    "low_limit95=gw_mean_mem-tstat95*(gw_std_mem/np.sqrt(nmembers-1))\n",
    "high_limit95=gw_mean_mem+tstat95*(gw_std_mem/np.sqrt(nmembers-1))\n",
    "print(\"95% confidence limits - t-statistic\")\n",
    "print(low_limit95.values)\n",
    "print(high_limit95.values)\n",
    "\n",
    "## Note: Python calculates left/lower-tail probabilities by default, so for the 99% confidence interval, use 0.995\n",
    "tstat99=stats.t.ppf(0.995,df)  #### FIXED - this said stats.norm.ppf instead of stats.t.ppf\n",
    "low_limit99=gw_mean_mem-tstat99*(gw_std_mem/np.sqrt(nmembers-1))\n",
    "high_limit99=gw_mean_mem+tstat99*(gw_std_mem/np.sqrt(nmembers-1))\n",
    "print(\"99% confidence limits - t-statistic\")\n",
    "print(low_limit99.values)\n",
    "print(high_limit99.values)"
   ]
  },
  {
   "cell_type": "code",
   "execution_count": null,
   "metadata": {},
   "outputs": [],
   "source": []
  },
  {
   "cell_type": "code",
   "execution_count": null,
   "metadata": {},
   "outputs": [],
   "source": []
  },
  {
   "cell_type": "code",
   "execution_count": null,
   "metadata": {},
   "outputs": [],
   "source": []
  }
 ],
 "metadata": {
  "kernelspec": {
   "display_name": "Python 3",
   "language": "python",
   "name": "python3"
  },
  "language_info": {
   "codemirror_mode": {
    "name": "ipython",
    "version": 3
   },
   "file_extension": ".py",
   "mimetype": "text/x-python",
   "name": "python",
   "nbconvert_exporter": "python",
   "pygments_lexer": "ipython3",
   "version": "3.8.8"
  }
 },
 "nbformat": 4,
 "nbformat_minor": 4
}
